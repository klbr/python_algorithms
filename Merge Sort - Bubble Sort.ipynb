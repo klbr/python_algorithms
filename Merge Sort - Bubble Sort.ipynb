{
 "cells": [
  {
   "cell_type": "code",
   "execution_count": 22,
   "metadata": {},
   "outputs": [],
   "source": [
    "elements = [14,33,27,10,35,19,42,44,2]"
   ]
  },
  {
   "cell_type": "markdown",
   "metadata": {},
   "source": [
    "# Merge Sort\n",
    "\n",
    "- Divide o array em metades iguais e os ordena.\n",
    "- Tem complexidade O(n log n)\n"
   ]
  },
  {
   "cell_type": "code",
   "execution_count": 23,
   "metadata": {},
   "outputs": [],
   "source": [
    "def merge_sort(array):\n",
    "    if len(array) == 1:\n",
    "        return array\n",
    "    \n",
    "    half = len(array) // 2\n",
    "    array1 = array[:half]\n",
    "    array2 = array[half:]\n",
    "\n",
    "    array1 = merge_sort(array1)\n",
    "    array2 = merge_sort(array2)\n",
    "    \n",
    "    return merge(array1, array2)"
   ]
  },
  {
   "cell_type": "code",
   "execution_count": 24,
   "metadata": {},
   "outputs": [],
   "source": [
    "def merge(a1, a2):\n",
    "    result = []\n",
    "    while len(a1) > 0 and len(a2) > 0:\n",
    "        a, b = a1[0], a2[0]\n",
    "        if a > b:\n",
    "            result.append(b)\n",
    "            a2.remove(b)\n",
    "        else:\n",
    "            result.append(a)\n",
    "            a1.remove(a)\n",
    "    \n",
    "    while len(a1) > 0:\n",
    "        result.append(a1[0])\n",
    "        a1.remove(a1[0])\n",
    "        \n",
    "    while len(a2) > 0:\n",
    "        result.append(a2[0])\n",
    "        a2.remove(a2[0])\n",
    "        \n",
    "    return result"
   ]
  },
  {
   "cell_type": "code",
   "execution_count": 37,
   "metadata": {},
   "outputs": [],
   "source": [
    "merge_sorted = merge_sort(elements)"
   ]
  },
  {
   "cell_type": "code",
   "execution_count": 38,
   "metadata": {},
   "outputs": [
    {
     "data": {
      "text/plain": [
       "[2, 10, 14, 19, 27, 33, 35, 42, 44]"
      ]
     },
     "execution_count": 38,
     "metadata": {},
     "output_type": "execute_result"
    }
   ],
   "source": [
    "merge_sorted"
   ]
  },
  {
   "cell_type": "markdown",
   "metadata": {},
   "source": [
    "# Bublle Sort\n",
    "\n",
    "- Compara e ordena pares e repete esse processo até o final da lista e faz o processo inverso do final da lista até o início.\n",
    "- Tem complexidade O(n²).\n",
    "- Não é indicado para grandes listas por causa de sua complexidade."
   ]
  },
  {
   "cell_type": "code",
   "execution_count": 32,
   "metadata": {},
   "outputs": [],
   "source": [
    "def bubble_sort(array):\n",
    "    a1 = array.copy()\n",
    "    for _ in range(len(a1) - 1):\n",
    "        swapped = False\n",
    "        for i in range(len(a1) - 1):\n",
    "            if a1[i] > a1[i+1]:\n",
    "                a1[i], a1[i+1] = a1[i+1], a1[i]\n",
    "                swapped = True\n",
    "            \n",
    "        if not swapped:\n",
    "            break\n",
    "    return a1"
   ]
  },
  {
   "cell_type": "code",
   "execution_count": 33,
   "metadata": {},
   "outputs": [],
   "source": [
    "bubble_sorted = bubble_sort(elements)"
   ]
  },
  {
   "cell_type": "code",
   "execution_count": 34,
   "metadata": {},
   "outputs": [
    {
     "data": {
      "text/plain": [
       "[2, 10, 14, 19, 27, 33, 35, 42, 44]"
      ]
     },
     "execution_count": 34,
     "metadata": {},
     "output_type": "execute_result"
    }
   ],
   "source": [
    "bubble_sorted"
   ]
  },
  {
   "cell_type": "code",
   "execution_count": null,
   "metadata": {},
   "outputs": [],
   "source": []
  }
 ],
 "metadata": {
  "kernelspec": {
   "display_name": "Python 3",
   "language": "python",
   "name": "python3"
  },
  "language_info": {
   "codemirror_mode": {
    "name": "ipython",
    "version": 3
   },
   "file_extension": ".py",
   "mimetype": "text/x-python",
   "name": "python",
   "nbconvert_exporter": "python",
   "pygments_lexer": "ipython3",
   "version": "3.6.5"
  }
 },
 "nbformat": 4,
 "nbformat_minor": 2
}
