{
 "cells": [
  {
   "cell_type": "code",
   "execution_count": 1,
   "metadata": {},
   "outputs": [],
   "source": [
    "import sys"
   ]
  },
  {
   "cell_type": "code",
   "execution_count": 19,
   "metadata": {},
   "outputs": [
    {
     "data": {
      "text/plain": [
       "{'A': [0, 1, 5, 0], 'B': [0, 0, 0, 15], 'C': [0, 0, 0, 4], 'D': [0, 0, 0, 0]}"
      ]
     },
     "execution_count": 19,
     "metadata": {},
     "output_type": "execute_result"
    }
   ],
   "source": [
    "graph = {\n",
    "    'A': [0,1,5,0],\n",
    "    'B': [0,0,0,15],\n",
    "    'C': [0,0,0,4],\n",
    "    'D': [0,0,0,0]\n",
    "}\n",
    "graph"
   ]
  },
  {
   "cell_type": "code",
   "execution_count": 13,
   "metadata": {},
   "outputs": [],
   "source": [
    "def dijkstra(graph, origin, target):    \n",
    "    keys = []\n",
    "    size = -1\n",
    "    for k in graph: \n",
    "        keys.append(k)\n",
    "        if size < 0:\n",
    "            size = len(graph[k])\n",
    "        if size != len(graph[k]):\n",
    "            raise ValueError('Graph com tamanho de vertices diferentes', size, len(graph[k]))\n",
    "            \n",
    "    if type(origin) is str:\n",
    "        origin = keys.index(origin)\n",
    "    if type(target) is str:\n",
    "        target = keys.index(target)\n",
    "    \n",
    "    if origin < 0 or origin > len(keys):\n",
    "        raise ValueError('origin inválido')\n",
    "    if target < 0 or target > len(keys):\n",
    "        raise ValueError('target inválido')\n",
    "        \n",
    "    M = [0] * len(keys)\n",
    "    L = [sys.maxsize] * len(keys)\n",
    "    A = [-1] * len(keys)\n",
    "    caminho = [0] * (size * 3)\n",
    "    \n",
    "    vert = origin\n",
    "    \n",
    "    L[vert] = 0\n",
    "    while vert != target and vert != -1:\n",
    "        for i in range(size):\n",
    "            key = keys[vert]\n",
    "            if graph[key][i] != 0 and M[i] == 0:\n",
    "                new_dist = L[vert] + graph[key][i];\n",
    "                if new_dist < L[i]:\n",
    "                    L[i] = new_dist\n",
    "                    A[i] = vert\n",
    "        M[vert] = 1\n",
    "        min = sys.maxsize\n",
    "        vert = -1\n",
    "        for i in range(size):\n",
    "            if M[i] == 0 and L[i] < min:\n",
    "                min = L[i]\n",
    "                vert = i\n",
    "                \n",
    "    \n",
    "    if vert == target:        \n",
    "        caminho[0] = target\n",
    "        k = 1\n",
    "        while vert != origin:\n",
    "            caminho[k] = A[vert]\n",
    "            vert = A[vert]\n",
    "            k += 1\n",
    "        \n",
    "        path_result = []\n",
    "        for i in range(k-1,-1,-1):\n",
    "            path_result.append(keys[caminho[i]])\n",
    "        return (L[target], path_result)\n",
    "    else:\n",
    "        return (None, )\n",
    "    "
   ]
  },
  {
   "cell_type": "code",
   "execution_count": 20,
   "metadata": {},
   "outputs": [
    {
     "data": {
      "text/plain": [
       "(9, ['A', 'C', 'D'])"
      ]
     },
     "execution_count": 20,
     "metadata": {},
     "output_type": "execute_result"
    }
   ],
   "source": [
    "dijkstra(graph, 'A', 'D')"
   ]
  },
  {
   "cell_type": "code",
   "execution_count": null,
   "metadata": {},
   "outputs": [],
   "source": []
  }
 ],
 "metadata": {
  "kernelspec": {
   "display_name": "Python 3",
   "language": "python",
   "name": "python3"
  },
  "language_info": {
   "codemirror_mode": {
    "name": "ipython",
    "version": 3
   },
   "file_extension": ".py",
   "mimetype": "text/x-python",
   "name": "python",
   "nbconvert_exporter": "python",
   "pygments_lexer": "ipython3",
   "version": "3.7.0"
  }
 },
 "nbformat": 4,
 "nbformat_minor": 2
}
