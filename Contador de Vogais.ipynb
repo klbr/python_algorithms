{
 "cells": [
  {
   "cell_type": "markdown",
   "metadata": {},
   "source": [
    "# Contador de Vogais\n",
    "\n",
    "Tranforma o texto em unicode normalizado. As letras acentuadas são convertidas em não acentuadas e aplicamos a função para contar a ocorrência da letra no texto."
   ]
  },
  {
   "cell_type": "code",
   "execution_count": 18,
   "metadata": {},
   "outputs": [],
   "source": [
    "paragrafo = u'''Lorem ipsum dolor sit amet, consectetur adipiscing elit. Cras aliquet, lorem quis hendrerit pellentesque, \n",
    "    turpis nisi eleifend urna, sed venenatis massa massa et mauris. Aenean auctor risus at nisl ultricies tempor. \n",
    "    In id lectus eu tortor tristique imperdiet. In libero elit, commodo nec eros sed, euismod blandit eros. Curabitur \n",
    "    euismod commodo elit, fermentum pellentesque nunc vulputate ac. Vivamus nec posuere enim. Nullam lorem augue, \n",
    "    elementum id faucibus nec, lacinia quis lectus. Nulla eu ornare ligulá. Etiam vitae pellentesque odio. \n",
    "    Cras convallis, purus at tempor maximus, metus felis condimentum massa, ut accumsan urna felis in orci.\n",
    "    Pellentesque id justo non arcu tempor molestie id id nibh. Proin sit amet placerat mauris. Vestibulum consectetur \n",
    "    arcu a ex consectetur, sit amet accumsan libero finibus. Suspendisse potenti. Suspendisse potenti.'''"
   ]
  },
  {
   "cell_type": "code",
   "execution_count": 19,
   "metadata": {},
   "outputs": [],
   "source": [
    "import unidecode\n",
    "def contador_vogal(texto):\n",
    "    vogais = ['a', 'e', 'i', 'o', 'u']\n",
    "    texto_sem_acento = unidecode.unidecode(texto)\n",
    "    result = []\n",
    "    for vogal in vogais:\n",
    "         result.append((vogal, texto_sem_acento.count(vogal)))\n",
    "    return result\n",
    "    "
   ]
  },
  {
   "cell_type": "code",
   "execution_count": 20,
   "metadata": {},
   "outputs": [
    {
     "data": {
      "text/plain": [
       "[('a', 48), ('e', 91), ('i', 66), ('o', 39), ('u', 58)]"
      ]
     },
     "execution_count": 20,
     "metadata": {},
     "output_type": "execute_result"
    }
   ],
   "source": [
    "contador_vogal(paragrafo)"
   ]
  }
 ],
 "metadata": {
  "kernelspec": {
   "display_name": "Python 3",
   "language": "python",
   "name": "python3"
  },
  "language_info": {
   "codemirror_mode": {
    "name": "ipython",
    "version": 3
   },
   "file_extension": ".py",
   "mimetype": "text/x-python",
   "name": "python",
   "nbconvert_exporter": "python",
   "pygments_lexer": "ipython3",
   "version": "3.6.5"
  }
 },
 "nbformat": 4,
 "nbformat_minor": 2
}
